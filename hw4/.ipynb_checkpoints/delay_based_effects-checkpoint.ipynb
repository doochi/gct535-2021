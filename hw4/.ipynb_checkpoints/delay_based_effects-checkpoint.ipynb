{
 "cells": [
  {
   "cell_type": "code",
   "execution_count": 1,
   "metadata": {},
   "outputs": [],
   "source": [
    "import numpy as np\n",
    "import matplotlib.pyplot as plt\n",
    "import IPython.display as ipd"
   ]
  },
  {
   "cell_type": "code",
   "execution_count": 2,
   "metadata": {},
   "outputs": [
    {
     "ename": "SyntaxError",
     "evalue": "invalid syntax (<ipython-input-2-3c16093fe9bf>, line 6)",
     "output_type": "error",
     "traceback": [
      "\u001b[0;36m  File \u001b[0;32m\"<ipython-input-2-3c16093fe9bf>\"\u001b[0;36m, line \u001b[0;32m6\u001b[0m\n\u001b[0;31m    y =\u001b[0m\n\u001b[0m        ^\u001b[0m\n\u001b[0;31mSyntaxError\u001b[0m\u001b[0;31m:\u001b[0m invalid syntax\n"
     ]
    }
   ],
   "source": [
    "def delay(x, wet, delay_time, gain, sr):\n",
    "    # - x: input signal\n",
    "    # - wet: ratio of delayed signal\n",
    "    # - delay_time: delay time ()\n",
    "    # - gain: feedback gain\n",
    "    # - sr: sampling rate\n",
    "    \n",
    "    y = np.zeros(x.shape[0])\n",
    "\n",
    "    # length of delay line\n",
    "    MAX_DELAY_LENGTH = sr*2\n",
    "    # write pointer\n",
    "    wp = 1\n",
    "    delay_length = delay_time*sr\n",
    "    \n",
    "    delay_line = np.zeros(MAX_DELAY_LENGTH)\n",
    "    \n",
    "    for i in range(len(x)):\n",
    "        op = wp-delay_length\n",
    "        if op<1.:\n",
    "            op = op+MAX_DELAY_LENGTH\n",
    "        rp = np.floor(op)\n",
    "        rp_frac = op-rp\n",
    "        \n",
    "        if rp>MAX_DELAY_LENGTH:\n",
    "            rp = rp-MAX_DELAY_LENGTH\n",
    "        \n",
    "        if rp == MAX_DELAY_LENGTH or rp == 0:\n",
    "            tap_out = (1-rp_frac)*delay_line[MAX_DELAY_LENGTH]+rp_frac*delay_line[1]\n",
    "        else:\n",
    "            tap_out = (1-rp_frac)*delay_line[rp]+rp_frac*delay_line[rp+1]\n",
    "        \n",
    "        delay_line[wp] = r*tap_out+x[n]"
   ]
  },
  {
   "cell_type": "code",
   "execution_count": null,
   "metadata": {},
   "outputs": [],
   "source": []
  }
 ],
 "metadata": {
  "kernelspec": {
   "display_name": "gct535",
   "language": "python",
   "name": "gct535"
  },
  "language_info": {
   "codemirror_mode": {
    "name": "ipython",
    "version": 3
   },
   "file_extension": ".py",
   "mimetype": "text/x-python",
   "name": "python",
   "nbconvert_exporter": "python",
   "pygments_lexer": "ipython3",
   "version": "3.8.8"
  }
 },
 "nbformat": 4,
 "nbformat_minor": 4
}
